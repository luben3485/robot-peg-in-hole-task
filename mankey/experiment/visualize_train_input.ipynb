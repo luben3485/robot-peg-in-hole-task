{
 "cells": [
  {
   "cell_type": "code",
   "execution_count": 1,
   "metadata": {},
   "outputs": [],
   "source": [
    "import numpy as np\n",
    "import matplotlib.pyplot as plt\n"
   ]
  },
  {
   "cell_type": "code",
   "execution_count": 4,
   "metadata": {},
   "outputs": [],
   "source": [
    "\n",
    "#rgbd = np.load('rgbd.npy')\n",
    "#rgbd = rgbd.reshape(256, 256, 4)"
   ]
  },
  {
   "cell_type": "code",
   "execution_count": 2,
   "metadata": {},
   "outputs": [
    {
     "data": {
      "text/plain": [
       "'\\nrgb_mean = [0.485, 0.456, 0.406]\\nrgb = rgbd[:,:,0:3]\\nprint(rgb)\\nfor channel in range(3):\\n    rgb[:,:,channel] = rgb[:,:,channel] + rgb_mean[channel]\\n'"
      ]
     },
     "execution_count": 2,
     "metadata": {},
     "output_type": "execute_result"
    }
   ],
   "source": [
    "'''\n",
    "rgb_mean = [0.485, 0.456, 0.406]\n",
    "rgb = rgbd[:,:,0:3]\n",
    "print(rgb)\n",
    "for channel in range(3):\n",
    "    rgb[:,:,channel] = rgb[:,:,channel] + rgb_mean[channel]\n",
    "'''"
   ]
  },
  {
   "cell_type": "code",
   "execution_count": null,
   "metadata": {},
   "outputs": [],
   "source": []
  },
  {
   "cell_type": "code",
   "execution_count": 27,
   "metadata": {},
   "outputs": [
    {
     "data": {
      "image/png": "[encoded data removed]",
      "text/plain": [
       "<Figure size 432x288 with 1 Axes>"
      ]
     },
     "metadata": {
      "needs_background": "light"
     },
     "output_type": "display_data"
    },
    {
     "data": {
      "image/png": "[encoded data removed]",
      "text/plain": [
       "<Figure size 432x288 with 1 Axes>"
      ]
     },
     "metadata": {
      "needs_background": "light"
     },
     "output_type": "display_data"
    },
    {
     "name": "stdout",
     "output_type": "stream",
     "text": [
      "[[36. 18.]]\n",
      "[[36. 19.]]\n"
     ]
    }
   ],
   "source": [
    "target_heatmap = np.load('target_heatmap.npy')\n",
    "pred_heatmap = np.load('pred_heatmap.npy')\n",
    "\n",
    "i = 0\n",
    "plt.imshow(target_heatmap[0][i])\n",
    "plt.show()\n",
    "plt.imshow(pred_heatmap[0][i])\n",
    "plt.show()\n",
    "\n",
    "n_keypoint = 1\n",
    "width = 64\n",
    "\n",
    "gt_flat_idx = np.argmax(target_heatmap[0][i])\n",
    "gt_flat_idx_float = float(gt_flat_idx)\n",
    "gt_keypoint_xy_pred = np.zeros((n_keypoint, 2))\n",
    "gt_keypoint_xy_pred[0, 0] = (gt_flat_idx_float - 1) % width\n",
    "gt_keypoint_xy_pred[0, 1] = np.floor((gt_flat_idx_float - 1) / width)\n",
    "print(gt_keypoint_xy_pred)\n",
    "\n",
    "pred_flat_idx = np.argmax(pred_heatmap[0][i])\n",
    "pred_flat_idx_float = float(pred_flat_idx)\n",
    "pred_keypoint_xy_pred = np.zeros((n_keypoint, 2))\n",
    "pred_keypoint_xy_pred[0, 0] = (pred_flat_idx_float - 1) % width\n",
    "pred_keypoint_xy_pred[0, 1] = np.floor((pred_flat_idx_float - 1) / width)\n",
    "print(pred_keypoint_xy_pred)"
   ]
  },
  {
   "cell_type": "code",
   "execution_count": 7,
   "metadata": {},
   "outputs": [
    {
     "name": "stdout",
     "output_type": "stream",
     "text": [
      "(14, 64, 64)\n"
     ]
    },
    {
     "data": {
      "image/png": "[encoded data removed]",
      "text/plain": [
       "<Figure size 432x288 with 1 Axes>"
      ]
     },
     "metadata": {
      "needs_background": "light"
     },
     "output_type": "display_data"
    },
    {
     "ename": "NameError",
     "evalue": "name 'pred_heatmap' is not defined",
     "output_type": "error",
     "traceback": [
      "\u001b[0;31m---------------------------------------------------------------------------\u001b[0m",
      "\u001b[0;31mNameError\u001b[0m                                 Traceback (most recent call last)",
      "\u001b[0;32m<ipython-input-7-9dc59d0672b9>\u001b[0m in \u001b[0;36m<module>\u001b[0;34m\u001b[0m\n\u001b[1;32m      6\u001b[0m \u001b[0mplt\u001b[0m\u001b[0;34m.\u001b[0m\u001b[0mimshow\u001b[0m\u001b[0;34m(\u001b[0m\u001b[0mtarget_heatmap\u001b[0m\u001b[0;34m[\u001b[0m\u001b[0mi\u001b[0m\u001b[0;34m]\u001b[0m\u001b[0;34m)\u001b[0m\u001b[0;34m\u001b[0m\u001b[0;34m\u001b[0m\u001b[0m\n\u001b[1;32m      7\u001b[0m \u001b[0mplt\u001b[0m\u001b[0;34m.\u001b[0m\u001b[0mshow\u001b[0m\u001b[0;34m(\u001b[0m\u001b[0;34m)\u001b[0m\u001b[0;34m\u001b[0m\u001b[0;34m\u001b[0m\u001b[0m\n\u001b[0;32m----> 8\u001b[0;31m \u001b[0mplt\u001b[0m\u001b[0;34m.\u001b[0m\u001b[0mimshow\u001b[0m\u001b[0;34m(\u001b[0m\u001b[0mpred_heatmap\u001b[0m\u001b[0;34m[\u001b[0m\u001b[0mi\u001b[0m\u001b[0;34m]\u001b[0m\u001b[0;34m)\u001b[0m\u001b[0;34m\u001b[0m\u001b[0;34m\u001b[0m\u001b[0m\n\u001b[0m\u001b[1;32m      9\u001b[0m \u001b[0mplt\u001b[0m\u001b[0;34m.\u001b[0m\u001b[0mshow\u001b[0m\u001b[0;34m(\u001b[0m\u001b[0;34m)\u001b[0m\u001b[0;34m\u001b[0m\u001b[0;34m\u001b[0m\u001b[0m\n",
      "\u001b[0;31mNameError\u001b[0m: name 'pred_heatmap' is not defined"
     ]
    }
   ],
   "source": [
    "import numpy as np\n",
    "import matplotlib.pyplot as plt\n",
    "target_heatmap = np.load('target_heatmap.npy')\n",
    "print(target_heatmap.shape)\n",
    "i = 2\n",
    "plt.imshow(target_heatmap[i])\n",
    "plt.show()\n",
    "plt.imshow(pred_heatmap[i])\n",
    "plt.show()"
   ]
  },
  {
   "cell_type": "code",
   "execution_count": null,
   "metadata": {},
   "outputs": [],
   "source": []
  }
 ],
 "metadata": {
  "kernelspec": {
   "display_name": "Python 3",
   "language": "python",
   "name": "python3"
  },
  "language_info": {
   "codemirror_mode": {
    "name": "ipython",
    "version": 3
   },
   "file_extension": ".py",
   "mimetype": "text/x-python",
   "name": "python",
   "nbconvert_exporter": "python",
   "pygments_lexer": "ipython3",
   "version": "3.6.13"
  }
 },
 "nbformat": 4,
 "nbformat_minor": 4
}
